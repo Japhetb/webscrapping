{
 "cells": [
  {
   "cell_type": "code",
   "execution_count": 1,
   "metadata": {},
   "outputs": [
    {
     "name": "stdout",
     "output_type": "stream",
     "text": [
      "https://gadgets.ndtv.com/wearables/news/apple-mixed-reality-headset-advanced-eye-tracking-iris-recognition-tipped-analyst-ming-chi-kuo-2394501\n",
      "https://gadgets.ndtv.com/entertainment/news/game-of-thrones-prequel-spinoffs-3-new-flea-bottom-9-voyages-10000-ships-nymeria-velaryon-2394455\n",
      "https://gadgets.ndtv.com/mobiles/news/samsung-a72-a52-price-in-india-rs-26499-34999-launch-sale-date-march-19-specifications-galaxy-2394401\n",
      "https://gadgets.ndtv.com/apps/news/whatsapp-pay-india-payments-head-manesh-mahatme-hired-amazon-pay-sources-2394444\n",
      "https://gadgets.ndtv.com/games/news/sony-vr-controllers-adaptive-triggers-next-gen-virtual-reality-system-playstation-5-ps5-headset-2394435\n",
      "https://gadgets.ndtv.com/laptops/news/dell-alienware-m17-m15-r4-gaming-laptops-cherrymx-mechanical-keyboard-ultra-low-profile-2394407\n",
      "https://gadgets.ndtv.com/mobiles/news/oneplus-6-6t-oxygenos-10-3-9-update-february-2021-android-security-patch-changelog-2394398\n",
      "https://gadgets.ndtv.com/social-networking/news/twitter-world-leaders-account-block-rules-survey-donald-trump-us-capitol-violence-2394393\n",
      "https://gadgets.ndtv.com/games/news/pubg-corporation-mobile-job-listing-linkedin-investment-strategy-analyst-india-bengaluru-office-krafton-2394382\n",
      "https://gadgets.ndtv.com/internet/news/digital-social-media-regulation-draft-it-government-rules-plea-delhi-high-court-quint-the-wire-2394360\n",
      "https://gadgets.ndtv.com/mobiles/news/realme-8-pro-specifications-ui-2-0-super-amoled-display-50w-charging-starry-mode-time-lapse-video-2394350\n",
      "https://gadgets.ndtv.com/mobiles/news/android-12-dp2-developer-preview-2-release-download-new-features-changes-2394331\n",
      "https://gadgets.ndtv.com/mobiles/news/samsung-galaxy-a82-64-megapixel-main-camera-sensor-report-2394229\n",
      "https://gadgets.ndtv.com/apps/news/twitter-youtube-videos-view-in-app-feature-testing-ios-users-2394325\n",
      "https://gadgets.ndtv.com/mobiles/news/vivo-v17-pro-android-11-update-funtouch-os-11-india-rollout-soak-test-greyscale-testing-2394317\n",
      "https://gadgets.ndtv.com/mobiles/news/micromax-in-1-price-in-india-rs-10499-11999-launch-specifications-march-26-release-date-flipkart-2394284\n",
      "https://gadgets.ndtv.com/entertainment/news/loki-series-hindi-tamil-telugu-hotstar-vip-india-release-date-cast-disney-plus-2394273\n",
      "https://gadgets.ndtv.com/apps/news/instagram-for-kids-under-13-work-in-progress-internal-communication-reveals-2394271\n",
      "https://gadgets.ndtv.com/transportation/news/geely-electric-vehicles-ev-brand-zeekr-launch-tesla-lingling-technologies-volvo-daimler-ag-2394268\n",
      "https://gadgets.ndtv.com/internet/news/metapurse-beeple-virtual-art-usd-69-million-jpg-beeple-everydays-the-first-5000-days-cryptocurrency-bitcoin-nft-2394249\n"
     ]
    },
    {
     "ename": "TypeError",
     "evalue": "'NoneType' object is not subscriptable",
     "output_type": "error",
     "traceback": [
      "\u001b[0;31m---------------------------------------------------------------------------\u001b[0m",
      "\u001b[0;31mTypeError\u001b[0m                                 Traceback (most recent call last)",
      "\u001b[0;32m<ipython-input-1-6a278859f5f6>\u001b[0m in \u001b[0;36m<module>\u001b[0;34m\u001b[0m\n\u001b[1;32m     10\u001b[0m     \u001b[0;31m#print(soup)\u001b[0m\u001b[0;34m\u001b[0m\u001b[0;34m\u001b[0m\u001b[0;34m\u001b[0m\u001b[0m\n\u001b[1;32m     11\u001b[0m     \u001b[0;32mfor\u001b[0m \u001b[0mitem\u001b[0m \u001b[0;32min\u001b[0m \u001b[0msoup\u001b[0m\u001b[0;34m.\u001b[0m\u001b[0mfind_all\u001b[0m\u001b[0;34m(\u001b[0m\u001b[0;34m\"div\"\u001b[0m\u001b[0;34m,\u001b[0m\u001b[0mattrs\u001b[0m\u001b[0;34m=\u001b[0m\u001b[0;34m{\u001b[0m\u001b[0;34m'class'\u001b[0m\u001b[0;34m:\u001b[0m\u001b[0;34m'thumb'\u001b[0m\u001b[0;34m}\u001b[0m\u001b[0;34m)\u001b[0m\u001b[0;34m:\u001b[0m\u001b[0;34m\u001b[0m\u001b[0;34m\u001b[0m\u001b[0m\n\u001b[0;32m---> 12\u001b[0;31m          \u001b[0mprint\u001b[0m\u001b[0;34m(\u001b[0m\u001b[0mitem\u001b[0m\u001b[0;34m.\u001b[0m\u001b[0mfind\u001b[0m\u001b[0;34m(\u001b[0m\u001b[0;34m'a'\u001b[0m\u001b[0;34m,\u001b[0m\u001b[0mhref\u001b[0m\u001b[0;34m=\u001b[0m\u001b[0;32mTrue\u001b[0m\u001b[0;34m)\u001b[0m\u001b[0;34m[\u001b[0m\u001b[0;34m'href'\u001b[0m\u001b[0;34m]\u001b[0m\u001b[0;34m,\u001b[0m\u001b[0mend\u001b[0m\u001b[0;34m=\u001b[0m\u001b[0;34m'\\n'\u001b[0m\u001b[0;34m)\u001b[0m\u001b[0;34m\u001b[0m\u001b[0;34m\u001b[0m\u001b[0m\n\u001b[0m\u001b[1;32m     13\u001b[0m \u001b[0;34m\u001b[0m\u001b[0m\n\u001b[1;32m     14\u001b[0m \u001b[0;34m\u001b[0m\u001b[0m\n",
      "\u001b[0;31mTypeError\u001b[0m: 'NoneType' object is not subscriptable"
     ]
    }
   ],
   "source": [
    "from urllib.request import Request,urlopen \n",
    "from bs4 import BeautifulSoup\n",
    "import requests\n",
    "root=\"https://www.google.com/\"\n",
    "link=\"https://gadgets.ndtv.com/news\"\n",
    "req =Request(link, headers={'User-Agent':'Mozilla/5.0'})\n",
    "webpage=urlopen(req).read()\n",
    "with requests.Session()as c:\n",
    "    soup=BeautifulSoup(webpage, 'html5lib')\n",
    "    #print(soup)\n",
    "    for item in soup.find_all(\"div\",attrs={'class':'thumb'}):\n",
    "         print(item.find('a',href=True)['href'],end='\\n')\n",
    "\n",
    "    "
   ]
  },
  {
   "cell_type": "code",
   "execution_count": null,
   "metadata": {},
   "outputs": [],
   "source": []
  },
  {
   "cell_type": "code",
   "execution_count": null,
   "metadata": {},
   "outputs": [],
   "source": []
  }
 ],
 "metadata": {
  "kernelspec": {
   "display_name": "Python 3",
   "language": "python",
   "name": "python3"
  },
  "language_info": {
   "codemirror_mode": {
    "name": "ipython",
    "version": 3
   },
   "file_extension": ".py",
   "mimetype": "text/x-python",
   "name": "python",
   "nbconvert_exporter": "python",
   "pygments_lexer": "ipython3",
   "version": "3.7.7"
  }
 },
 "nbformat": 4,
 "nbformat_minor": 4
}
